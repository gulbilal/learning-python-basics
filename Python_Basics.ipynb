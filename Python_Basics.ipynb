{
  "nbformat": 4,
  "nbformat_minor": 0,
  "metadata": {
    "colab": {
      "name": "Python Basics.ipynb",
      "provenance": [],
      "collapsed_sections": [
        "axK1IFy8ZMDv",
        "4DVztZshZMDz",
        "UuDHRK9QZMEN",
        "p3VdBQaaDHDA",
        "5qe5bQcRDHEv",
        "-ZcfjsmUDHFf",
        "QYUDMMAGD9cF",
        "BWq9M7kuD9c4",
        "z0OSwEF8D9c7",
        "-VEbPIqBD9dj",
        "_vs590iAD9eo",
        "UPFdQGvVWBeE",
        "bxn0pLyqZMEX",
        "F0gf0RQKZMFk",
        "EUhH-ELj_Fiu",
        "bZjy2b-UZMGk",
        "fjr-sY8_ZMG5",
        "tVPGvJtXZMHb",
        "90kYHBIfZMHu"
      ],
      "toc_visible": true
    },
    "kernelspec": {
      "display_name": "Python 3",
      "language": "python",
      "name": "python3"
    }
  },
  "cells": [
    {
      "cell_type": "markdown",
      "source": [
        "# Basics of Python Programming\n",
        "\n",
        "This notebook was provided by my university and covers the basics of Python programming language. The Jupyter notebooks provide an interactive way to code in python and see the results along with the code without having to run the whole code again and again and having results in a terminal window."
      ],
      "metadata": {
        "id": "NPrxkJivjX7S"
      }
    },
    {
      "cell_type": "markdown",
      "source": [
        "# Import modules\n",
        "\n",
        "One of Python's strengths is the existence of many added functionalities provided by external modules. A module is a Python script that contains various functions and classes (a class is a blueprint to create an object) that we can use. A collection of modules is called a package. \n",
        "\n",
        "Since a module exists outside of this script it needs to be \"imported\", that is it needs to be made known and availaible to this script. Like this:"
      ],
      "metadata": {
        "id": "9ply5j-OjhlK"
      }
    },
    {
      "cell_type": "code",
      "execution_count": 1,
      "metadata": {
        "colab": {
          "base_uri": "https://localhost:8080/"
        },
        "id": "h2XZS-14jLzX",
        "outputId": "98cc59f3-44cd-4f46-f266-a1585802def8"
      },
      "outputs": [
        {
          "output_type": "stream",
          "name": "stdout",
          "text": [
            "0.2867538127028352\n"
          ]
        }
      ],
      "source": [
        "# random is a package that lets us generate lots of different types of random numbers\n",
        "import random\n",
        "\n",
        "# To call functions defined within a package we use the \"dot notation\"\n",
        "# \n",
        "# The output of the next line should be a \n",
        "print(random.random())\n"
      ]
    },
    {
      "cell_type": "markdown",
      "source": [
        "# Variables\n",
        "\n",
        "To keep track of what's happening in the script, we need variable.\n",
        "Variables are objects that contain specific information, like a number, a list of numbers or a piece of text. \n",
        "\n",
        "They are created via assignment. That is we can use the equal sign (=) to assign whatever it's on its right hand side to the variable on its left hand side. A variable is identified by its name. To summarize, an assignment follows the structure:\n",
        "\n",
        "`name_of_variable = object`\n",
        "\n",
        "The equal sign is called assignment operator.\n",
        "\n",
        "For example:"
      ],
      "metadata": {
        "id": "sHHk-g1KttDQ"
      }
    },
    {
      "cell_type": "code",
      "source": [
        "# Here we create a variable called \"variable_num\" and assign the number 0 to it\n",
        "variable_num= 0\n",
        "\n",
        "# Here we create a variable called \"variable_test\" and assign the text \"this is a text\" to it\n",
        "variable_text= \"this is a text\"\n",
        "\n",
        "print(variable_num)\n",
        "print(variable_text)\n"
      ],
      "metadata": {
        "colab": {
          "base_uri": "https://localhost:8080/"
        },
        "id": "HWiCquB2jXgL",
        "outputId": "590af2f7-8d97-4bc1-d117-db49c6584b50"
      },
      "execution_count": 2,
      "outputs": [
        {
          "output_type": "stream",
          "name": "stdout",
          "text": [
            "0\n",
            "this is a text\n"
          ]
        }
      ]
    },
    {
      "cell_type": "markdown",
      "source": [
        "Now we can use these variables again and again and they will still have the same value unless we change it. Let's try again:"
      ],
      "metadata": {
        "id": "i44-LCbCutfm"
      }
    },
    {
      "cell_type": "code",
      "source": [
        "print(variable_num)\n",
        "print(variable_text)"
      ],
      "metadata": {
        "colab": {
          "base_uri": "https://localhost:8080/"
        },
        "id": "qqJ7GQkhjXdb",
        "outputId": "55b88b23-0d79-48f7-e8bf-12051236a94b"
      },
      "execution_count": 3,
      "outputs": [
        {
          "output_type": "stream",
          "name": "stdout",
          "text": [
            "0\n",
            "this is a text\n"
          ]
        }
      ]
    },
    {
      "cell_type": "markdown",
      "source": [
        "Remember to assign useful names to your variables! Try to avoid using generic names like \"a\" and \"b\". The name of a variable should make it easy to remember what is inside that variable.\n",
        "\n",
        "Also, variable names should follow a few rules:\n",
        "\n",
        "    1. Names should not start with a number\n",
        "    2. Do not use spaces in the name, use _ instead\n",
        "    3. Do not use any of these symbols :'\",<>/?|\\()!@#$%^&*~-+\n",
        "    4. It's considered best practice (PEP8) that names are lowercase or CamelCase\n",
        "    5. Do not use words that have special meaning in Python like \"list\" and \"str\"\n",
        "\n",
        "For example:"
      ],
      "metadata": {
        "id": "o_5fYcJIu8xj"
      }
    },
    {
      "cell_type": "code",
      "source": [
        "day_of_the_week = 'Friday' # good practice\n",
        "a= 'Friday' # less good because it's less self-explanatory\n",
        "\n",
        "# Notice the difference in readibility:\n",
        "print('Today is', day_of_the_week)\n",
        "print('Today is', a)\n"
      ],
      "metadata": {
        "colab": {
          "base_uri": "https://localhost:8080/"
        },
        "id": "RTEY-hdxjXa8",
        "outputId": "fa21bfa1-6708-4c1e-d038-d0ee606dcc39"
      },
      "execution_count": 4,
      "outputs": [
        {
          "output_type": "stream",
          "name": "stdout",
          "text": [
            "Today is Friday\n",
            "Today is Friday\n"
          ]
        }
      ]
    },
    {
      "cell_type": "markdown",
      "source": [
        "After I assign a variable, can I change it?"
      ],
      "metadata": {
        "id": "dpom_dNXwbI7"
      }
    },
    {
      "cell_type": "code",
      "metadata": {
        "id": "scnJggW3DHGA"
      },
      "source": [
        "# Reassignment\n",
        "variable_num = 20"
      ],
      "execution_count": 5,
      "outputs": []
    },
    {
      "cell_type": "code",
      "metadata": {
        "id": "58gZjcm5DHGJ",
        "colab": {
          "base_uri": "https://localhost:8080/"
        },
        "outputId": "ff563ef9-08e1-4bb1-dc22-2a38d55d0e89"
      },
      "source": [
        "# Check\n",
        "print(variable_num)"
      ],
      "execution_count": 6,
      "outputs": [
        {
          "output_type": "stream",
          "name": "stdout",
          "text": [
            "20\n"
          ]
        }
      ]
    },
    {
      "cell_type": "markdown",
      "metadata": {
        "id": "92PaBgDvDHGY"
      },
      "source": [
        "We can change the value of a variable by performing a new assignment. \n",
        "We can also use a variable to assign another variable. We can even overwrite a variable with a modified version of itself. For example:"
      ]
    },
    {
      "cell_type": "code",
      "metadata": {
        "id": "Jq5XRxfxDHGq"
      },
      "source": [
        "# assign a variable with a modified version of itself:\n",
        "variable_num = variable_num + variable_num\n",
        "\n",
        "# assign a variable with a variable\n",
        "second_variable_num = variable_num"
      ],
      "execution_count": 7,
      "outputs": []
    },
    {
      "cell_type": "code",
      "metadata": {
        "id": "PPhA64dLDHG2",
        "colab": {
          "base_uri": "https://localhost:8080/"
        },
        "outputId": "bcb6057b-ece4-44b7-8cc4-f13fdaa8eeb5"
      },
      "source": [
        "# Check \n",
        "print(variable_num)\n",
        "print(second_variable_num)\n"
      ],
      "execution_count": 8,
      "outputs": [
        {
          "output_type": "stream",
          "name": "stdout",
          "text": [
            "40\n",
            "40\n"
          ]
        }
      ]
    },
    {
      "cell_type": "markdown",
      "source": [
        "# Main Python objects\n",
        "\n",
        "There are many different types of objects that can be assigned to a variable. Python has a few important data types that you will be working with all the time. Common data types include:\n",
        "* **int** (for integer numbers)\n",
        "* **float** (for floating-point numbers, that is numbers with decimal points)\n",
        "* **str** (for string)\n",
        "* **list** (a collection of objects)\n",
        "* **tuple** (an immutable collection of objects)\n",
        "* **dict** (for dictionary)\n",
        "* **set** (a collection of unique objects)\n",
        "* **bool** (for Boolean True/False)\n",
        "\n",
        "You can check what type of object is assigned to a variable using Python's built-in `type()` function.\n",
        "\n",
        "For example:"
      ],
      "metadata": {
        "id": "_RDRJadh1KCY"
      }
    },
    {
      "cell_type": "code",
      "source": [
        "variable_int= 1\n",
        "variable_float= 1.1 #note that 1 is an integer, but 1. is a float!\n",
        "\n",
        "print(type(variable_int))\n",
        "print(type(variable_float))\n",
        "print(type(variable_text)) #remember the one from before?\n"
      ],
      "metadata": {
        "colab": {
          "base_uri": "https://localhost:8080/"
        },
        "id": "u9wifRrY1JlT",
        "outputId": "075fcf5f-1be7-4e8b-f386-e8918eac1ec5"
      },
      "execution_count": 9,
      "outputs": [
        {
          "output_type": "stream",
          "name": "stdout",
          "text": [
            "<class 'int'>\n",
            "<class 'float'>\n",
            "<class 'str'>\n"
          ]
        }
      ]
    },
    {
      "cell_type": "markdown",
      "source": [
        "Let's dig a bit deeper into each variable type."
      ],
      "metadata": {
        "id": "PT6BrggK3q4X"
      }
    },
    {
      "cell_type": "markdown",
      "metadata": {
        "id": "UPFdQGvVWBeE"
      },
      "source": [
        "## Strings"
      ]
    },
    {
      "cell_type": "markdown",
      "metadata": {
        "id": "xDKNpVuEWBeH"
      },
      "source": [
        "Strings are used in Python to record text information. Strings in Python are actually a *sequence* of characters in a specific order. This means that the word \"car\" is interpreted by Python as the letter \"c\" in the first position, the letter \"a\" in the second position and the letter \"r\" in the third position.\n"
      ]
    },
    {
      "cell_type": "markdown",
      "source": [
        "### Creating strings"
      ],
      "metadata": {
        "id": "1_SIzpBxAU2S"
      }
    },
    {
      "cell_type": "markdown",
      "metadata": {
        "id": "yOxBpmZ7WBeI"
      },
      "source": [
        "To create a string in Python you need to use either single quotes or double quotes. For example:"
      ]
    },
    {
      "cell_type": "code",
      "metadata": {
        "id": "bJHuvF44WBeK",
        "colab": {
          "base_uri": "https://localhost:8080/"
        },
        "outputId": "d85c4996-1e7f-4df4-baab-3505ef9389ce"
      },
      "source": [
        "# Single word\n",
        "var_string='word'\n",
        "print(var_string)"
      ],
      "execution_count": 10,
      "outputs": [
        {
          "output_type": "stream",
          "name": "stdout",
          "text": [
            "word\n"
          ]
        }
      ]
    },
    {
      "cell_type": "code",
      "metadata": {
        "id": "1JFv7U-05Z-D",
        "colab": {
          "base_uri": "https://localhost:8080/"
        },
        "outputId": "fc0bef46-ad0d-4034-d2c7-0d3a6b72286c"
      },
      "source": [
        "# Entire phrase \n",
        "var_string='This is a string with multiple words'\n",
        "\n",
        "# Note that Python doesn't really know what a word is. It simply stores a sequence\n",
        "# of characters that includes white spaces\n",
        "print(var_string)"
      ],
      "execution_count": 11,
      "outputs": [
        {
          "output_type": "stream",
          "name": "stdout",
          "text": [
            "This is a string with multiple words\n"
          ]
        }
      ]
    },
    {
      "cell_type": "code",
      "metadata": {
        "id": "2uiK1gSu5Z-W",
        "colab": {
          "base_uri": "https://localhost:8080/"
        },
        "outputId": "b78e067e-d732-49f6-f7dd-776262b167ab"
      },
      "source": [
        "# We can also use double quote\n",
        "var_string=\"This is still a string\"\n",
        "print(var_string)"
      ],
      "execution_count": 12,
      "outputs": [
        {
          "output_type": "stream",
          "name": "stdout",
          "text": [
            "This is still a string\n"
          ]
        }
      ]
    },
    {
      "cell_type": "code",
      "metadata": {
        "id": "ug8TJa5C5Z-q",
        "colab": {
          "base_uri": "https://localhost:8080/",
          "height": 135
        },
        "outputId": "b3fc3c87-277b-4230-96a6-2760721274d8"
      },
      "source": [
        "# Be careful with quotes within quotes!\n",
        "' I'm using single quotes, but this will create an error'"
      ],
      "execution_count": 13,
      "outputs": [
        {
          "output_type": "error",
          "ename": "SyntaxError",
          "evalue": "ignored",
          "traceback": [
            "\u001b[0;36m  File \u001b[0;32m\"<ipython-input-13-81d4f033131c>\"\u001b[0;36m, line \u001b[0;32m2\u001b[0m\n\u001b[0;31m    ' I'm using single quotes, but this will create an error'\u001b[0m\n\u001b[0m        ^\u001b[0m\n\u001b[0;31mSyntaxError\u001b[0m\u001b[0;31m:\u001b[0m invalid syntax\n"
          ]
        }
      ]
    },
    {
      "cell_type": "markdown",
      "metadata": {
        "id": "h63r0XY-5Z_I"
      },
      "source": [
        "The reason for the error above is because Python interprets the single quote in <code>I'm</code> as the end of the string. So it doesn't know how to interpret what follows it! You can use combinations of double and single quotes to get the complete statement."
      ]
    },
    {
      "cell_type": "code",
      "metadata": {
        "id": "Pka4tOp75Z_N",
        "colab": {
          "base_uri": "https://localhost:8080/"
        },
        "outputId": "97c51e3e-e17d-4230-f00e-97902e0bb623"
      },
      "source": [
        "var_string=\"Now I'm ready to use the single quotes inside a string!\"\n",
        "print(var_string)"
      ],
      "execution_count": 14,
      "outputs": [
        {
          "output_type": "stream",
          "name": "stdout",
          "text": [
            "Now I'm ready to use the single quotes inside a string!\n"
          ]
        }
      ]
    },
    {
      "cell_type": "markdown",
      "metadata": {
        "id": "ojIiHaNVWBfP"
      },
      "source": [
        "We can use a function called len() to check the length of a string! This function in built-in into Python and counts all characters in a string, including spaces and punctuation."
      ]
    },
    {
      "cell_type": "code",
      "metadata": {
        "id": "dslXBUdNWBfP",
        "colab": {
          "base_uri": "https://localhost:8080/"
        },
        "outputId": "1b05c29d-d1a9-483e-bb36-a70e7dd034c6"
      },
      "source": [
        "len('Hello World')"
      ],
      "execution_count": 15,
      "outputs": [
        {
          "output_type": "execute_result",
          "data": {
            "text/plain": [
              "11"
            ]
          },
          "metadata": {},
          "execution_count": 15
        }
      ]
    },
    {
      "cell_type": "markdown",
      "source": [
        "We can retrieve portions (that is, individual or subsets of characters) of a strings by indexing. In Python indexing is performed by having square brackets after a variable name, where the square brackets contain the indices we are interested in.\n",
        "\n",
        "Important note: Python's indexing starts at 0. This means that the first character has the index 0, the second has the index 1, and so on...\n",
        "\n",
        "For example:"
      ],
      "metadata": {
        "id": "GbUASvyr7h5p"
      }
    },
    {
      "cell_type": "code",
      "source": [
        "var_string= \"012345 This is a string\""
      ],
      "metadata": {
        "id": "PwDQ7JTd8Lk_"
      },
      "execution_count": 16,
      "outputs": []
    },
    {
      "cell_type": "code",
      "metadata": {
        "id": "BRXudZJ7WBf1",
        "colab": {
          "base_uri": "https://localhost:8080/",
          "height": 36
        },
        "outputId": "cbd33b9d-e351-4eea-c1aa-f7530d720f9b"
      },
      "source": [
        "# Show first element (in this case the number 0)\n",
        "var_string[0]"
      ],
      "execution_count": 17,
      "outputs": [
        {
          "output_type": "execute_result",
          "data": {
            "text/plain": [
              "'0'"
            ],
            "application/vnd.google.colaboratory.intrinsic+json": {
              "type": "string"
            }
          },
          "metadata": {},
          "execution_count": 17
        }
      ]
    },
    {
      "cell_type": "code",
      "metadata": {
        "id": "fX5lLPzcWBf9",
        "colab": {
          "base_uri": "https://localhost:8080/",
          "height": 36
        },
        "outputId": "b16d3553-e615-48a9-f5cb-1ac6ecd71a4c"
      },
      "source": [
        "# second character\n",
        "var_string[1]"
      ],
      "execution_count": 18,
      "outputs": [
        {
          "output_type": "execute_result",
          "data": {
            "text/plain": [
              "'1'"
            ],
            "application/vnd.google.colaboratory.intrinsic+json": {
              "type": "string"
            }
          },
          "metadata": {},
          "execution_count": 18
        }
      ]
    },
    {
      "cell_type": "markdown",
      "source": [
        "How about the last character? We have two ways:\n",
        "1. use negative numbers, that is count the position going backwards\n",
        "2. remember that the last character is in a position given by the length of the string itself **minus** 1 (because indexing starts at 0)\n"
      ],
      "metadata": {
        "id": "sUHU0Vpo8WuL"
      }
    },
    {
      "cell_type": "code",
      "metadata": {
        "id": "d82LBSK1WBgD",
        "colab": {
          "base_uri": "https://localhost:8080/"
        },
        "outputId": "8b30cb47-6d6a-47ee-cbb1-4a320e841afa"
      },
      "source": [
        "# how about the last one?\n",
        "print(var_string[-1])\n",
        "print(var_string[len(var_string)-1])\n"
      ],
      "execution_count": 19,
      "outputs": [
        {
          "output_type": "stream",
          "name": "stdout",
          "text": [
            "g\n",
            "g\n"
          ]
        }
      ]
    },
    {
      "cell_type": "markdown",
      "metadata": {
        "id": "FkKByu_MWBgJ"
      },
      "source": [
        "We can use a <code>:</code> to perform *slicing* which grabs indices based on a specific pattern. The pattern is:\n",
        "`start:stop:step` \n",
        "\n",
        "It grabs everything from index `start` (included) to index `stop` (**not** included) in increments of `step`. \n",
        "\n",
        "That is:"
      ]
    },
    {
      "cell_type": "code",
      "metadata": {
        "id": "8Pr2V6pSWBgk",
        "colab": {
          "base_uri": "https://localhost:8080/"
        },
        "outputId": "f975b0ba-244b-4893-960d-3a0a22ec2ab3"
      },
      "source": [
        "#Check the string\n",
        "print(var_string)\n",
        "\n",
        "#This will print character 1,3,5 (not 5 because 7 is not included). \n",
        "# You can double check from the string itself!\n",
        "print(var_string[1:7:2])\n",
        "\n",
        "# This will print from beginning to end in increments of 2\n",
        "print(var_string[::2])\n"
      ],
      "execution_count": 20,
      "outputs": [
        {
          "output_type": "stream",
          "name": "stdout",
          "text": [
            "012345 This is a string\n",
            "135\n",
            "024 hsi  tig\n"
          ]
        }
      ]
    },
    {
      "cell_type": "markdown",
      "source": [
        "Note that is `start` is omitted, Python starts at the beginning. If `end` is omitted, Python will keep going until the last index. If `step` is omitted each successive index is incremented by one.\n",
        "For example:"
      ],
      "metadata": {
        "id": "ng0CdeJs9bIy"
      }
    },
    {
      "cell_type": "code",
      "metadata": {
        "id": "UxSCWxqkWBgL",
        "colab": {
          "base_uri": "https://localhost:8080/"
        },
        "outputId": "6b8031c3-e773-4009-a98e-09b4cd36ec6a"
      },
      "source": [
        "# Take everything from the character at the start until the 5th one \n",
        "# (note the 5th character has the index 4, while index 5, the 6th character, is excluded)\n",
        "print(var_string[:5])\n"
      ],
      "execution_count": 21,
      "outputs": [
        {
          "output_type": "stream",
          "name": "stdout",
          "text": [
            "01234\n"
          ]
        }
      ]
    },
    {
      "cell_type": "code",
      "metadata": {
        "id": "1wnMpcZUWBhC",
        "colab": {
          "base_uri": "https://localhost:8080/",
          "height": 36
        },
        "outputId": "763a1fd0-91f2-4488-cad1-ad98173fa5f5"
      },
      "source": [
        "# Finally, we can use this to print a string backwards\n",
        "var_string[::-1]"
      ],
      "execution_count": 22,
      "outputs": [
        {
          "output_type": "execute_result",
          "data": {
            "text/plain": [
              "'gnirts a si sihT 543210'"
            ],
            "application/vnd.google.colaboratory.intrinsic+json": {
              "type": "string"
            }
          },
          "metadata": {},
          "execution_count": 22
        }
      ]
    },
    {
      "cell_type": "markdown",
      "metadata": {
        "collapsed": true,
        "id": "Lp9s45QAWBhJ"
      },
      "source": [
        "### String Properties\n",
        "It's important to note that strings have an important property known as *immutability*. This means that once a string is created, the elements within it can not be changed or replaced. For example:"
      ]
    },
    {
      "cell_type": "code",
      "metadata": {
        "id": "_jf43al5WBhK"
      },
      "source": [
        "var_string='try'"
      ],
      "execution_count": 23,
      "outputs": []
    },
    {
      "cell_type": "code",
      "metadata": {
        "id": "uyvtajAgWBhP",
        "colab": {
          "base_uri": "https://localhost:8080/",
          "height": 190
        },
        "outputId": "24437957-07fb-43e0-d929-e2d7506d2859"
      },
      "source": [
        "# Let's try to change the first letter to 'x'\n",
        "var_string[0] = 'x' "
      ],
      "execution_count": 24,
      "outputs": [
        {
          "output_type": "error",
          "ename": "TypeError",
          "evalue": "ignored",
          "traceback": [
            "\u001b[0;31m---------------------------------------------------------------------------\u001b[0m",
            "\u001b[0;31mTypeError\u001b[0m                                 Traceback (most recent call last)",
            "\u001b[0;32m<ipython-input-24-43a482e60594>\u001b[0m in \u001b[0;36m<module>\u001b[0;34m()\u001b[0m\n\u001b[1;32m      1\u001b[0m \u001b[0;31m# Let's try to change the first letter to 'x'\u001b[0m\u001b[0;34m\u001b[0m\u001b[0;34m\u001b[0m\u001b[0;34m\u001b[0m\u001b[0m\n\u001b[0;32m----> 2\u001b[0;31m \u001b[0mvar_string\u001b[0m\u001b[0;34m[\u001b[0m\u001b[0;36m0\u001b[0m\u001b[0;34m]\u001b[0m \u001b[0;34m=\u001b[0m \u001b[0;34m'x'\u001b[0m\u001b[0;34m\u001b[0m\u001b[0;34m\u001b[0m\u001b[0m\n\u001b[0m",
            "\u001b[0;31mTypeError\u001b[0m: 'str' object does not support item assignment"
          ]
        }
      ]
    },
    {
      "cell_type": "markdown",
      "metadata": {
        "id": "l4QT3X0zWBhS"
      },
      "source": [
        "Notice how the error tells us directly what we can't do, change the item assignment!\n",
        "\n",
        "Something we *can* do is concatenate strings!"
      ]
    },
    {
      "cell_type": "code",
      "metadata": {
        "id": "vYXeNMblWBhU",
        "colab": {
          "base_uri": "https://localhost:8080/",
          "height": 36
        },
        "outputId": "638b7c6c-4903-4db3-c9f9-1a49cf3f4884"
      },
      "source": [
        "var_string"
      ],
      "execution_count": 25,
      "outputs": [
        {
          "output_type": "execute_result",
          "data": {
            "text/plain": [
              "'try'"
            ],
            "application/vnd.google.colaboratory.intrinsic+json": {
              "type": "string"
            }
          },
          "metadata": {},
          "execution_count": 25
        }
      ]
    },
    {
      "cell_type": "code",
      "metadata": {
        "id": "XR0S1jKxWBhY",
        "colab": {
          "base_uri": "https://localhost:8080/",
          "height": 36
        },
        "outputId": "372e5cbc-b29f-40fc-8e2e-8236ec0fee26"
      },
      "source": [
        "# Concatenate strings!\n",
        "var_string + ' concatenate me!'"
      ],
      "execution_count": 26,
      "outputs": [
        {
          "output_type": "execute_result",
          "data": {
            "text/plain": [
              "'try concatenate me!'"
            ],
            "application/vnd.google.colaboratory.intrinsic+json": {
              "type": "string"
            }
          },
          "metadata": {},
          "execution_count": 26
        }
      ]
    },
    {
      "cell_type": "code",
      "metadata": {
        "id": "m6SB7GL5WBhj"
      },
      "source": [
        "# We can reassign s completely though!\n",
        "var_string = var_string + ' concatenate me!'"
      ],
      "execution_count": 27,
      "outputs": []
    },
    {
      "cell_type": "code",
      "metadata": {
        "id": "gHalRyTRWBhn",
        "colab": {
          "base_uri": "https://localhost:8080/"
        },
        "outputId": "c69171d6-d081-45b9-8c86-879609673929"
      },
      "source": [
        "print(var_string)"
      ],
      "execution_count": 28,
      "outputs": [
        {
          "output_type": "stream",
          "name": "stdout",
          "text": [
            "try concatenate me!\n"
          ]
        }
      ]
    },
    {
      "cell_type": "markdown",
      "metadata": {
        "id": "e8-jq_1QWBhz"
      },
      "source": [
        "We can use the multiplication symbol to create repetition!"
      ]
    },
    {
      "cell_type": "code",
      "metadata": {
        "id": "TOU8obx8WBh1",
        "colab": {
          "base_uri": "https://localhost:8080/",
          "height": 36
        },
        "outputId": "227ba3d1-3198-42b0-af75-401a449ef20b"
      },
      "source": [
        "letter = 'z '\n",
        "10*letter"
      ],
      "execution_count": 29,
      "outputs": [
        {
          "output_type": "execute_result",
          "data": {
            "text/plain": [
              "'z z z z z z z z z z '"
            ],
            "application/vnd.google.colaboratory.intrinsic+json": {
              "type": "string"
            }
          },
          "metadata": {},
          "execution_count": 29
        }
      ]
    },
    {
      "cell_type": "markdown",
      "metadata": {
        "id": "zeomX4Z-WBiB"
      },
      "source": [
        "### Basic Built-in String methods\n",
        "\n",
        "Objects in Python usually have built-in methods. These methods are functions inside the object (we will learn about these in much more depth later) that can perform actions or commands on the object itself.\n",
        "\n",
        "We call methods with the \"dot notation\", that is a period followed by the method name. Methods are in the form:\n",
        "\n",
        "object.method(parameters)\n",
        "\n",
        "Where parameters are extra arguments we can pass into the method. Don't worry if the details don't make 100% sense right now. Later on we will be creating our own objects and functions!\n",
        "\n",
        "Here are some examples of built-in methods in strings:"
      ]
    },
    {
      "cell_type": "code",
      "metadata": {
        "id": "cazJg7rBWBiD",
        "colab": {
          "base_uri": "https://localhost:8080/",
          "height": 36
        },
        "outputId": "bf323573-e0c7-402b-b02a-addec77d0eec"
      },
      "source": [
        "var_string"
      ],
      "execution_count": 30,
      "outputs": [
        {
          "output_type": "execute_result",
          "data": {
            "text/plain": [
              "'try concatenate me!'"
            ],
            "application/vnd.google.colaboratory.intrinsic+json": {
              "type": "string"
            }
          },
          "metadata": {},
          "execution_count": 30
        }
      ]
    },
    {
      "cell_type": "code",
      "metadata": {
        "id": "1yAjve4tWBiI",
        "colab": {
          "base_uri": "https://localhost:8080/",
          "height": 36
        },
        "outputId": "87941b42-bda3-40af-e4d7-29b0b43b0146"
      },
      "source": [
        "# Upper Case a string\n",
        "var_string.upper()"
      ],
      "execution_count": 31,
      "outputs": [
        {
          "output_type": "execute_result",
          "data": {
            "text/plain": [
              "'TRY CONCATENATE ME!'"
            ],
            "application/vnd.google.colaboratory.intrinsic+json": {
              "type": "string"
            }
          },
          "metadata": {},
          "execution_count": 31
        }
      ]
    },
    {
      "cell_type": "code",
      "metadata": {
        "id": "JB3GtZZoWBiQ",
        "colab": {
          "base_uri": "https://localhost:8080/",
          "height": 36
        },
        "outputId": "311c603f-8467-4c40-8ee7-7b3767216df2"
      },
      "source": [
        "# Lower case\n",
        "var_string.lower()"
      ],
      "execution_count": 32,
      "outputs": [
        {
          "output_type": "execute_result",
          "data": {
            "text/plain": [
              "'try concatenate me!'"
            ],
            "application/vnd.google.colaboratory.intrinsic+json": {
              "type": "string"
            }
          },
          "metadata": {},
          "execution_count": 32
        }
      ]
    },
    {
      "cell_type": "code",
      "metadata": {
        "id": "gSy9pSWnWBii",
        "colab": {
          "base_uri": "https://localhost:8080/"
        },
        "outputId": "303365eb-5ce1-47bf-8a79-9f6570c93060"
      },
      "source": [
        "# Split a string by blank space (this is the default)\n",
        "var_string.split()"
      ],
      "execution_count": 33,
      "outputs": [
        {
          "output_type": "execute_result",
          "data": {
            "text/plain": [
              "['try', 'concatenate', 'me!']"
            ]
          },
          "metadata": {},
          "execution_count": 33
        }
      ]
    },
    {
      "cell_type": "code",
      "metadata": {
        "id": "SXu1ut68WBio",
        "colab": {
          "base_uri": "https://localhost:8080/"
        },
        "outputId": "84389a7a-8af9-4c83-f958-63ccf0dc293a"
      },
      "source": [
        "# Split by a specific element (doesn't include the element that was split on)\n",
        "var_string.split('string')"
      ],
      "execution_count": 34,
      "outputs": [
        {
          "output_type": "execute_result",
          "data": {
            "text/plain": [
              "['try concatenate me!']"
            ]
          },
          "metadata": {},
          "execution_count": 34
        }
      ]
    },
    {
      "cell_type": "markdown",
      "source": [
        "Wait, what variable type is that? Well, it's a list, which we'll see shortly."
      ],
      "metadata": {
        "id": "7c6-scmdGsQa"
      }
    },
    {
      "cell_type": "markdown",
      "metadata": {
        "id": "PZcBcd_bWBiz"
      },
      "source": [
        "### Print Formatting\n",
        "\n",
        "We can use the .format() method to add formatted objects to printed string statements. \n",
        "\n",
        "The easiest way to show this is through an example:"
      ]
    },
    {
      "cell_type": "code",
      "metadata": {
        "id": "2fEu7J5OWBi4",
        "colab": {
          "base_uri": "https://localhost:8080/",
          "height": 36
        },
        "outputId": "3708935b-3d30-4eb5-b6e4-5c3f0d5f372e"
      },
      "source": [
        "'Insert another {} string with curly brackets: {}'.format('The inserted string',\"the 2nd str\")"
      ],
      "execution_count": 35,
      "outputs": [
        {
          "output_type": "execute_result",
          "data": {
            "text/plain": [
              "'Insert another The inserted string string with curly brackets: the 2nd str'"
            ],
            "application/vnd.google.colaboratory.intrinsic+json": {
              "type": "string"
            }
          },
          "metadata": {},
          "execution_count": 35
        }
      ]
    },
    {
      "cell_type": "markdown",
      "metadata": {
        "deletable": true,
        "editable": true,
        "id": "bxn0pLyqZMEX"
      },
      "source": [
        "## Lists\n",
        "\n",
        "Lists are sequences of objects, that can be of many different types. We can create lists by including the objects within square brackets. Like:\n"
      ]
    },
    {
      "cell_type": "code",
      "metadata": {
        "deletable": true,
        "editable": true,
        "id": "FMLrDpkiZMEZ",
        "colab": {
          "base_uri": "https://localhost:8080/"
        },
        "outputId": "aded6659-8f04-4ef1-86ce-c68186552c0e"
      },
      "source": [
        "var_list = [1, 2, 3, 4, 5, 6, 7, 8]\n",
        "# lists have the attribute len too! They're sequences after all...\n",
        "print(len(var_list))"
      ],
      "execution_count": 36,
      "outputs": [
        {
          "output_type": "stream",
          "name": "stdout",
          "text": [
            "8\n"
          ]
        }
      ]
    },
    {
      "cell_type": "markdown",
      "source": [
        "Since lists are sequences, we can index them like we did for strings:"
      ],
      "metadata": {
        "id": "basSsfOKE6Tr"
      }
    },
    {
      "cell_type": "code",
      "source": [
        ""
      ],
      "metadata": {
        "id": "b_Q4FHoAG1IC"
      },
      "execution_count": 36,
      "outputs": []
    },
    {
      "cell_type": "code",
      "metadata": {
        "deletable": true,
        "editable": true,
        "id": "bmCKv4WZZMEe",
        "colab": {
          "base_uri": "https://localhost:8080/"
        },
        "outputId": "070499b1-fa33-43d7-c7e2-70979e70ac3a"
      },
      "source": [
        "var_list[:3]"
      ],
      "execution_count": 37,
      "outputs": [
        {
          "output_type": "execute_result",
          "data": {
            "text/plain": [
              "[1, 2, 3]"
            ]
          },
          "metadata": {},
          "execution_count": 37
        }
      ]
    },
    {
      "cell_type": "code",
      "metadata": {
        "deletable": true,
        "editable": true,
        "id": "QEmjxyB9ZMEl",
        "colab": {
          "base_uri": "https://localhost:8080/"
        },
        "outputId": "58c7668a-f219-4dde-ccc5-2ea547c28024"
      },
      "source": [
        "var_list[3:]"
      ],
      "execution_count": 38,
      "outputs": [
        {
          "output_type": "execute_result",
          "data": {
            "text/plain": [
              "[4, 5, 6, 7, 8]"
            ]
          },
          "metadata": {},
          "execution_count": 38
        }
      ]
    },
    {
      "cell_type": "code",
      "metadata": {
        "deletable": true,
        "editable": true,
        "id": "wYDmyssfZMEr",
        "colab": {
          "base_uri": "https://localhost:8080/"
        },
        "outputId": "2042e763-9dd1-44d5-a291-654568602470"
      },
      "source": [
        "var_list[-2:]"
      ],
      "execution_count": 39,
      "outputs": [
        {
          "output_type": "execute_result",
          "data": {
            "text/plain": [
              "[7, 8]"
            ]
          },
          "metadata": {},
          "execution_count": 39
        }
      ]
    },
    {
      "cell_type": "markdown",
      "source": [
        "We can add new objects at the end (and only at the end) of a list. We can do this in different ways:\n",
        "1. with the method `extend`\n",
        "2. with the method `append`\n",
        "3. with the addition operator"
      ],
      "metadata": {
        "id": "mUpyXSqXFEPH"
      }
    },
    {
      "cell_type": "code",
      "metadata": {
        "deletable": true,
        "editable": true,
        "id": "KmaMpqPQZME1",
        "colab": {
          "base_uri": "https://localhost:8080/"
        },
        "outputId": "26510d7c-0b62-41db-813a-1abc9ce0d8a4"
      },
      "source": [
        "var_list.extend([7,8])\n",
        "var_list"
      ],
      "execution_count": 40,
      "outputs": [
        {
          "output_type": "execute_result",
          "data": {
            "text/plain": [
              "[1, 2, 3, 4, 5, 6, 7, 8, 7, 8]"
            ]
          },
          "metadata": {},
          "execution_count": 40
        }
      ]
    },
    {
      "cell_type": "code",
      "metadata": {
        "deletable": true,
        "editable": true,
        "id": "DI2Mr7tZZME6",
        "colab": {
          "base_uri": "https://localhost:8080/"
        },
        "outputId": "8d970be7-a5da-41b4-c495-257f554bce68"
      },
      "source": [
        "var_list.append(9)\n",
        "var_list"
      ],
      "execution_count": 41,
      "outputs": [
        {
          "output_type": "execute_result",
          "data": {
            "text/plain": [
              "[1, 2, 3, 4, 5, 6, 7, 8, 7, 8, 9]"
            ]
          },
          "metadata": {},
          "execution_count": 41
        }
      ]
    },
    {
      "cell_type": "code",
      "source": [
        "var_list += [10]\n",
        "var_list"
      ],
      "metadata": {
        "colab": {
          "base_uri": "https://localhost:8080/"
        },
        "id": "rTmgtfkKFc6X",
        "outputId": "985cab1a-5737-49d9-e21b-1e22e04708a4"
      },
      "execution_count": 42,
      "outputs": [
        {
          "output_type": "execute_result",
          "data": {
            "text/plain": [
              "[1, 2, 3, 4, 5, 6, 7, 8, 7, 8, 9, 10]"
            ]
          },
          "metadata": {},
          "execution_count": 42
        }
      ]
    },
    {
      "cell_type": "markdown",
      "source": [
        "Lists are pretty versatile and can contain any type of object. Even different types in the same list. Even a list itself..."
      ],
      "metadata": {
        "id": "2DZ2cU8RFLvJ"
      }
    },
    {
      "cell_type": "code",
      "metadata": {
        "deletable": true,
        "editable": true,
        "id": "09FuUVMnZMFD",
        "colab": {
          "base_uri": "https://localhost:8080/"
        },
        "outputId": "414dd3da-a572-4335-aab8-be2841e39071"
      },
      "source": [
        "new_var_list = [20, 21, 22]\n",
        "list_of_lists = [var_list, new_var_list]\n",
        "list_of_lists"
      ],
      "execution_count": 43,
      "outputs": [
        {
          "output_type": "execute_result",
          "data": {
            "text/plain": [
              "[[1, 2, 3, 4, 5, 6, 7, 8, 7, 8, 9, 10], [20, 21, 22]]"
            ]
          },
          "metadata": {},
          "execution_count": 43
        }
      ]
    },
    {
      "cell_type": "markdown",
      "source": [
        "We can index lists of lists by having one indexing follow the other. That is, we need to use two sets of square brackets, like this:"
      ],
      "metadata": {
        "id": "QQJlaVgfF5GH"
      }
    },
    {
      "cell_type": "code",
      "metadata": {
        "deletable": true,
        "editable": true,
        "id": "uZFbrZZJZMFJ",
        "colab": {
          "base_uri": "https://localhost:8080/"
        },
        "outputId": "2731f8ca-7682-48f1-9aae-5b34772452ac"
      },
      "source": [
        "# take the index 0 from the list with index 1 (that is, the second list)\n",
        "list_of_lists[1][0]"
      ],
      "execution_count": 44,
      "outputs": [
        {
          "output_type": "execute_result",
          "data": {
            "text/plain": [
              "20"
            ]
          },
          "metadata": {},
          "execution_count": 44
        }
      ]
    },
    {
      "cell_type": "code",
      "source": [
        "#Finally, an example of list with mixed object types\n",
        "mixed_list = [0, '0', [1,'1']]\n",
        "print(mixed_list)"
      ],
      "metadata": {
        "colab": {
          "base_uri": "https://localhost:8080/"
        },
        "id": "FUGyqgrVGRqm",
        "outputId": "60b040e2-391e-44ba-fd02-af10bcf48b4e"
      },
      "execution_count": 45,
      "outputs": [
        {
          "output_type": "stream",
          "name": "stdout",
          "text": [
            "[0, '0', [1, '1']]\n"
          ]
        }
      ]
    },
    {
      "cell_type": "markdown",
      "metadata": {
        "deletable": true,
        "editable": true,
        "id": "F0gf0RQKZMFk"
      },
      "source": [
        "## Tuples"
      ]
    },
    {
      "cell_type": "code",
      "metadata": {
        "deletable": true,
        "editable": true,
        "id": "HBUm-m8oZMFm",
        "colab": {
          "base_uri": "https://localhost:8080/"
        },
        "outputId": "7612d0fa-9c65-4638-e92b-f6dac40f21a1"
      },
      "source": [
        "#Tuples are just immutable lists. Use () instead of []\n",
        "var_tuple = (1, 2, 3)\n",
        "len(var_tuple)"
      ],
      "execution_count": 46,
      "outputs": [
        {
          "output_type": "execute_result",
          "data": {
            "text/plain": [
              "3"
            ]
          },
          "metadata": {},
          "execution_count": 46
        }
      ]
    },
    {
      "cell_type": "code",
      "metadata": {
        "deletable": true,
        "editable": true,
        "id": "jtspguNzZMFq",
        "colab": {
          "base_uri": "https://localhost:8080/"
        },
        "outputId": "7144f3e1-bdb6-4fee-b62f-91519899790c"
      },
      "source": [
        "new_var_tuple = (4, 5, 6)\n",
        "new_var_tuple[2]"
      ],
      "execution_count": 47,
      "outputs": [
        {
          "output_type": "execute_result",
          "data": {
            "text/plain": [
              "6"
            ]
          },
          "metadata": {},
          "execution_count": 47
        }
      ]
    },
    {
      "cell_type": "code",
      "metadata": {
        "deletable": true,
        "editable": true,
        "id": "n_3KDQ5hZMF4",
        "colab": {
          "base_uri": "https://localhost:8080/"
        },
        "outputId": "c75e1fcc-b36a-4e8a-a396-98672365ee00"
      },
      "source": [
        "list_of_tuples = [var_tuple, new_var_tuple]\n",
        "list_of_tuples"
      ],
      "execution_count": 48,
      "outputs": [
        {
          "output_type": "execute_result",
          "data": {
            "text/plain": [
              "[(1, 2, 3), (4, 5, 6)]"
            ]
          },
          "metadata": {},
          "execution_count": 48
        }
      ]
    },
    {
      "cell_type": "markdown",
      "metadata": {
        "id": "EUhH-ELj_Fiu"
      },
      "source": [
        "## Dictionaries\n",
        "\n",
        "We've looked at *sequences* in Python but now we're going to switch gears and learn about *mappings* in Python. It is basically similar to hash tables or maps in other languages.\n",
        "\n",
        "So what are mappings? Mappings are a collection of objects that are stored by a *key*, unlike a sequence that stored objects by their relative position. This is an important distinction, since mappings won't retain order since they have objects defined by a key.\n",
        "\n",
        "A Python dictionary consists of a key and an associated value. That value can be almost any Python object."
      ]
    },
    {
      "cell_type": "markdown",
      "metadata": {
        "id": "P2TgovvQBYhP"
      },
      "source": [
        "### Constructing a Dictionary\n",
        "Let's see how we can construct dictionaries to get a better understanding of how they work!"
      ]
    },
    {
      "cell_type": "code",
      "metadata": {
        "id": "vtBMWJhZ_Fi1",
        "colab": {
          "base_uri": "https://localhost:8080/",
          "height": 36
        },
        "outputId": "7a413607-e13e-4343-f05d-96ec98c800e2"
      },
      "source": [
        "# Make a dictionary with {} and : to signify a key and a value\n",
        "my_dict = {'key1':'value1','key2':'value2'}\n",
        "\n",
        "# Call values by their key\n",
        "my_dict['key1']"
      ],
      "execution_count": 49,
      "outputs": [
        {
          "output_type": "execute_result",
          "data": {
            "text/plain": [
              "'value1'"
            ],
            "application/vnd.google.colaboratory.intrinsic+json": {
              "type": "string"
            }
          },
          "metadata": {},
          "execution_count": 49
        }
      ]
    },
    {
      "cell_type": "markdown",
      "metadata": {
        "id": "IMp9L0OK_FjZ"
      },
      "source": [
        "Its important to note that dictionaries are very flexible in the data types they can hold. For example:"
      ]
    },
    {
      "cell_type": "code",
      "metadata": {
        "id": "QMCJSamy_Fjc"
      },
      "source": [
        "my_dict = {'key1':123,'key2':[12,23,33],'key3':['item0','item1','item2']}"
      ],
      "execution_count": 50,
      "outputs": []
    },
    {
      "cell_type": "code",
      "metadata": {
        "id": "BFyfjtFR_Fjn",
        "colab": {
          "base_uri": "https://localhost:8080/"
        },
        "outputId": "8524b7c2-ee12-46d7-8fb4-0ec767207b8d"
      },
      "source": [
        "# Let's call items from the dictionary\n",
        "my_dict['key3']"
      ],
      "execution_count": 51,
      "outputs": [
        {
          "output_type": "execute_result",
          "data": {
            "text/plain": [
              "['item0', 'item1', 'item2']"
            ]
          },
          "metadata": {},
          "execution_count": 51
        }
      ]
    },
    {
      "cell_type": "code",
      "metadata": {
        "id": "TrHocA9T_Fj0",
        "colab": {
          "base_uri": "https://localhost:8080/"
        },
        "outputId": "7cabed39-cf62-4898-abc1-0e63fd0dc5cc"
      },
      "source": [
        "# Can call an index on that value\n",
        "my_dict['key2']"
      ],
      "execution_count": 52,
      "outputs": [
        {
          "output_type": "execute_result",
          "data": {
            "text/plain": [
              "[12, 23, 33]"
            ]
          },
          "metadata": {},
          "execution_count": 52
        }
      ]
    },
    {
      "cell_type": "code",
      "metadata": {
        "id": "00o19FgW_FkA",
        "colab": {
          "base_uri": "https://localhost:8080/",
          "height": 36
        },
        "outputId": "e5be96de-9a7f-4839-a755-c49d619fbcc7"
      },
      "source": [
        "# Can then even call methods on that value\n",
        "my_dict['key3'][0].upper()"
      ],
      "execution_count": 53,
      "outputs": [
        {
          "output_type": "execute_result",
          "data": {
            "text/plain": [
              "'ITEM0'"
            ],
            "application/vnd.google.colaboratory.intrinsic+json": {
              "type": "string"
            }
          },
          "metadata": {},
          "execution_count": 53
        }
      ]
    },
    {
      "cell_type": "markdown",
      "metadata": {
        "id": "P8eHedWC_FkJ"
      },
      "source": [
        "We can affect the values of a key as well. For instance:"
      ]
    },
    {
      "cell_type": "code",
      "metadata": {
        "id": "AHL8iSjI_FkL",
        "colab": {
          "base_uri": "https://localhost:8080/"
        },
        "outputId": "6b2ef93f-0860-484d-8647-5e24dff1de03"
      },
      "source": [
        "my_dict['key1']"
      ],
      "execution_count": 54,
      "outputs": [
        {
          "output_type": "execute_result",
          "data": {
            "text/plain": [
              "123"
            ]
          },
          "metadata": {},
          "execution_count": 54
        }
      ]
    },
    {
      "cell_type": "code",
      "metadata": {
        "id": "O7HKmxd3_Fka"
      },
      "source": [
        "# Subtract 123 from the value\n",
        "my_dict['key1'] = my_dict['key1'] + 103"
      ],
      "execution_count": 55,
      "outputs": []
    },
    {
      "cell_type": "code",
      "metadata": {
        "id": "m8ybTPJ__Fkn",
        "colab": {
          "base_uri": "https://localhost:8080/"
        },
        "outputId": "a49e97fd-8fc8-47f7-90a1-cabb2f85fb09"
      },
      "source": [
        "#Check\n",
        "my_dict['key1']"
      ],
      "execution_count": 56,
      "outputs": [
        {
          "output_type": "execute_result",
          "data": {
            "text/plain": [
              "226"
            ]
          },
          "metadata": {},
          "execution_count": 56
        }
      ]
    },
    {
      "cell_type": "markdown",
      "metadata": {
        "id": "35rcavIR_Fk2"
      },
      "source": [
        "A quick note, Python has a built-in method of doing a self subtraction or addition (or multiplication or division). We could have also used += or -= for the above statement. For example:"
      ]
    },
    {
      "cell_type": "code",
      "metadata": {
        "id": "Vv1EKOi-_Fk5",
        "colab": {
          "base_uri": "https://localhost:8080/"
        },
        "outputId": "935ef687-0872-495a-b817-22e53f47f5aa"
      },
      "source": [
        "# Set the object equal to itself minus 123 \n",
        "my_dict['key1'] -= 123\n",
        "\n",
        "#check\n",
        "my_dict['key1']"
      ],
      "execution_count": 57,
      "outputs": [
        {
          "output_type": "execute_result",
          "data": {
            "text/plain": [
              "103"
            ]
          },
          "metadata": {},
          "execution_count": 57
        }
      ]
    },
    {
      "cell_type": "markdown",
      "metadata": {
        "id": "T4wai7BC_FmG"
      },
      "source": [
        "### A few Dictionary Methods\n",
        "\n",
        "There are a few methods we can call on a dictionary. Let's get a quick introduction to a few of them:"
      ]
    },
    {
      "cell_type": "code",
      "metadata": {
        "id": "uTjH1FGs_FmH"
      },
      "source": [
        "# Create a typical dictionary\n",
        "d = {'key1':1,'key2':2,'key3':3}"
      ],
      "execution_count": 58,
      "outputs": []
    },
    {
      "cell_type": "code",
      "metadata": {
        "id": "hFT6zzyl_FmO",
        "colab": {
          "base_uri": "https://localhost:8080/"
        },
        "outputId": "2f461828-f631-4dc7-8c2f-013a31ce26fc"
      },
      "source": [
        "# Method to return all the keys \n",
        "d.keys()"
      ],
      "execution_count": 59,
      "outputs": [
        {
          "output_type": "execute_result",
          "data": {
            "text/plain": [
              "dict_keys(['key1', 'key2', 'key3'])"
            ]
          },
          "metadata": {},
          "execution_count": 59
        }
      ]
    },
    {
      "cell_type": "code",
      "metadata": {
        "id": "FeMS_LRv_Fmk",
        "colab": {
          "base_uri": "https://localhost:8080/"
        },
        "outputId": "9512ba09-516c-43eb-e5f4-4db4bde2c258"
      },
      "source": [
        "# Method to grab all values\n",
        "d.values()"
      ],
      "execution_count": 60,
      "outputs": [
        {
          "output_type": "execute_result",
          "data": {
            "text/plain": [
              "dict_values([1, 2, 3])"
            ]
          },
          "metadata": {},
          "execution_count": 60
        }
      ]
    },
    {
      "cell_type": "code",
      "metadata": {
        "id": "oWDAkOf__Fmt",
        "colab": {
          "base_uri": "https://localhost:8080/"
        },
        "outputId": "4ef97d3a-c8f8-4041-c084-eabe982e4fe7"
      },
      "source": [
        "# Method to return tuples of all items\n",
        "d.items()"
      ],
      "execution_count": 61,
      "outputs": [
        {
          "output_type": "execute_result",
          "data": {
            "text/plain": [
              "dict_items([('key1', 1), ('key2', 2), ('key3', 3)])"
            ]
          },
          "metadata": {},
          "execution_count": 61
        }
      ]
    },
    {
      "cell_type": "markdown",
      "metadata": {
        "deletable": true,
        "editable": true,
        "id": "N0KHbS6GZMGI"
      },
      "source": [
        "### Another way for creating dictionaries"
      ]
    },
    {
      "cell_type": "markdown",
      "metadata": {
        "id": "EUuTR3qL_FlD"
      },
      "source": [
        "We can also create keys by assignment. For instance if we started off with an empty dictionary, we could continually add to it:"
      ]
    },
    {
      "cell_type": "code",
      "metadata": {
        "deletable": true,
        "editable": true,
        "id": "Rniux0pKZMGK",
        "colab": {
          "base_uri": "https://localhost:8080/"
        },
        "outputId": "822dd31f-238a-4166-efad-8a7e73f904b2"
      },
      "source": [
        "# Like a map or hash table in other languages\n",
        "captains = {}\n",
        "captains[\"Enterprise\"] = \"Kirk\"\n",
        "captains[\"Enterprise D\"] = \"Picard\"\n",
        "captains[\"Deep Space Nine\"] = \"Sisko\"\n",
        "captains[\"Voyager\"] = \"Janeway\"\n",
        "\n",
        "print(captains[\"Voyager\"])"
      ],
      "execution_count": 62,
      "outputs": [
        {
          "output_type": "stream",
          "name": "stdout",
          "text": [
            "Janeway\n"
          ]
        }
      ]
    },
    {
      "cell_type": "code",
      "metadata": {
        "deletable": true,
        "editable": true,
        "id": "MQF27dEHZMGP",
        "colab": {
          "base_uri": "https://localhost:8080/"
        },
        "outputId": "4dc6eba1-909f-484d-9459-ada5c2243815"
      },
      "source": [
        "print(captains.get(\"Enterprise\"))"
      ],
      "execution_count": 63,
      "outputs": [
        {
          "output_type": "stream",
          "name": "stdout",
          "text": [
            "Kirk\n"
          ]
        }
      ]
    },
    {
      "cell_type": "code",
      "metadata": {
        "deletable": true,
        "editable": true,
        "id": "UUfY8QfRZMGY",
        "colab": {
          "base_uri": "https://localhost:8080/"
        },
        "outputId": "5d349cb5-3a5f-46de-9f7e-a90f614c01af"
      },
      "source": [
        "print(captains.get(\"NX-01\"))"
      ],
      "execution_count": 64,
      "outputs": [
        {
          "output_type": "stream",
          "name": "stdout",
          "text": [
            "None\n"
          ]
        }
      ]
    },
    {
      "cell_type": "code",
      "metadata": {
        "deletable": true,
        "editable": true,
        "id": "layPUTNfZMGd",
        "colab": {
          "base_uri": "https://localhost:8080/"
        },
        "outputId": "0e75a574-9810-4d1f-a3e5-1b57bf98e7b6"
      },
      "source": [
        "for ship in captains:\n",
        "    print(ship + \": \" + captains[ship])"
      ],
      "execution_count": 65,
      "outputs": [
        {
          "output_type": "stream",
          "name": "stdout",
          "text": [
            "Enterprise: Kirk\n",
            "Enterprise D: Picard\n",
            "Deep Space Nine: Sisko\n",
            "Voyager: Janeway\n"
          ]
        }
      ]
    },
    {
      "cell_type": "markdown",
      "metadata": {
        "deletable": true,
        "editable": true,
        "id": "bZjy2b-UZMGk"
      },
      "source": [
        "# Functions\n",
        "\n",
        "Functions are pieces of code that define a specific behaviour. They take some parameters as input and return a specific output. Functions are defined by the keyword `def` followed by the name of the function, the parameters within brackets and a colon \":\". That is:\n",
        "\n"
      ]
    },
    {
      "cell_type": "code",
      "metadata": {
        "deletable": true,
        "editable": true,
        "id": "LIdut9x8ZMGm",
        "colab": {
          "base_uri": "https://localhost:8080/"
        },
        "outputId": "1ac2ecfc-036f-40c6-e9ba-21a96faea49d"
      },
      "source": [
        "# here the function is DEFINED\n",
        "def SquareIt(x):\n",
        "    #x is the input parameter\n",
        "    # this function returns the square of the input x:\n",
        "    return x ** 2\n",
        "\n",
        "# here the function is CALLED\n",
        "# a function CALL is performed using its name followed by the specific parameter \n",
        "# we want to apply the function too\n",
        "print(SquareIt(2))\n",
        "\n",
        "# we can also apply functions to variables\n",
        "var_num= 3\n",
        "print(SquareIt(3))"
      ],
      "execution_count": 66,
      "outputs": [
        {
          "output_type": "stream",
          "name": "stdout",
          "text": [
            "4\n",
            "9\n"
          ]
        }
      ]
    },
    {
      "cell_type": "markdown",
      "source": [
        "There is lots of flexibility with functions, but we'll only mention two main features for now.\n",
        "\n",
        "1. We can pass multiple arguments and get multiple outputs:\n",
        "2. Some of the parameters can have a default value, so that even if we don't pass those parameters when we call the function, Python knows what the default value should be. However, we can still give those parameters a value different from the default.\n",
        "\n",
        "Like this:"
      ],
      "metadata": {
        "id": "UWJReXmxIX73"
      }
    },
    {
      "cell_type": "code",
      "metadata": {
        "deletable": true,
        "editable": true,
        "id": "gSzytzUXZMGp",
        "colab": {
          "base_uri": "https://localhost:8080/"
        },
        "outputId": "ef606a82-948d-4d91-d31f-741da3ee2ec0"
      },
      "source": [
        "#You can pass functions around as parameters\n",
        "def MultipleOperations(x, y =2):\n",
        "    # takes two parameters, returns two outputs\n",
        "    return x+y, x*y\n",
        "\n",
        "# Note that for readability we also use the name of the parameters to the function\n",
        "# This way we don't have to remember the order of the parameters in the definition\n",
        "print(MultipleOperations(x=3)) #should return 5 and 6\n",
        "print(MultipleOperations(x=3,y=10)) #should return 13 and 30\n"
      ],
      "execution_count": 67,
      "outputs": [
        {
          "output_type": "stream",
          "name": "stdout",
          "text": [
            "(5, 6)\n",
            "(13, 30)\n"
          ]
        }
      ]
    },
    {
      "cell_type": "markdown",
      "metadata": {
        "deletable": true,
        "editable": true,
        "id": "fjr-sY8_ZMG5"
      },
      "source": [
        "# Boolean Expressions\n",
        "\n",
        "Boolean expression are used to evaluated conditions. That is, whether something is True or False. Some common boolean operators are:\n",
        "1. A==B: check if A is equal to B\n",
        "2. A>B: check if A is greater than B (variants are: >=, <, <=)\n",
        "\n",
        "We can also combine boolean expression by using operators like `and` and `or`."
      ]
    },
    {
      "cell_type": "code",
      "metadata": {
        "deletable": true,
        "editable": true,
        "id": "lXmn-F7ZZMG6",
        "colab": {
          "base_uri": "https://localhost:8080/"
        },
        "outputId": "79c6e7c6-9d4c-4c8b-abe6-b7006febdf7b"
      },
      "source": [
        "print(1 == 3)"
      ],
      "execution_count": 68,
      "outputs": [
        {
          "output_type": "stream",
          "name": "stdout",
          "text": [
            "False\n"
          ]
        }
      ]
    },
    {
      "cell_type": "code",
      "metadata": {
        "deletable": true,
        "editable": true,
        "id": "PH5cx4SfZMHD",
        "colab": {
          "base_uri": "https://localhost:8080/"
        },
        "outputId": "ddde42df-5cc4-4dcb-eab8-4bea4656dab6"
      },
      "source": [
        "print(True or False)"
      ],
      "execution_count": 69,
      "outputs": [
        {
          "output_type": "stream",
          "name": "stdout",
          "text": [
            "True\n"
          ]
        }
      ]
    },
    {
      "cell_type": "markdown",
      "source": [
        "We can use Boolean operator with `if` statements, which allows us to execute different code blocks based on a given condition. For example, we may want to select the highest amongst two variables and assign that one to a new variable. Like this:"
      ],
      "metadata": {
        "id": "mwu41l_sKvm5"
      }
    },
    {
      "cell_type": "code",
      "metadata": {
        "deletable": true,
        "editable": true,
        "id": "c8PfS12jZMHT",
        "colab": {
          "base_uri": "https://localhost:8080/"
        },
        "outputId": "b0f4b4af-740c-4cbc-97f3-bb88f5646c76"
      },
      "source": [
        "first_var=1\n",
        "second_var=3\n",
        "\n",
        "if first_var == second_var:\n",
        "    final_var= first_var\n",
        "elif first_var > second_var:\n",
        "    final_var= first_var\n",
        "else:\n",
        "    final_var= second_var\n",
        "\n",
        "print(final_var)"
      ],
      "execution_count": 70,
      "outputs": [
        {
          "output_type": "stream",
          "name": "stdout",
          "text": [
            "3\n"
          ]
        }
      ]
    },
    {
      "cell_type": "markdown",
      "source": [
        "NOTE the colon (:) a the end of each if statement and the indented blocks! White spaces at the beginning of a line really do matter in Python. If the code was like this it would give an error:"
      ],
      "metadata": {
        "id": "lWod2UlzLhEi"
      }
    },
    {
      "cell_type": "code",
      "source": [
        "first_var=1\n",
        "second_var=3\n",
        "\n",
        "if first_var == second_var:\n",
        "final_var= first_var\n",
        "elif first_var > second_var:\n",
        "final_var= first_var\n",
        "else:\n",
        "final_var= second_var\n",
        "\n",
        "print(final_var)"
      ],
      "metadata": {
        "colab": {
          "base_uri": "https://localhost:8080/",
          "height": 135
        },
        "id": "LRzgwqGzLu-7",
        "outputId": "33d9b5d3-3a94-4cc1-9c39-11db85aefbf0"
      },
      "execution_count": 71,
      "outputs": [
        {
          "output_type": "error",
          "ename": "IndentationError",
          "evalue": "ignored",
          "traceback": [
            "\u001b[0;36m  File \u001b[0;32m\"<ipython-input-71-e0eab41695a4>\"\u001b[0;36m, line \u001b[0;32m5\u001b[0m\n\u001b[0;31m    final_var= first_var\u001b[0m\n\u001b[0m            ^\u001b[0m\n\u001b[0;31mIndentationError\u001b[0m\u001b[0;31m:\u001b[0m expected an indented block\n"
          ]
        }
      ]
    },
    {
      "cell_type": "markdown",
      "metadata": {
        "deletable": true,
        "editable": true,
        "id": "tVPGvJtXZMHb"
      },
      "source": [
        "# Loops\n",
        "\n",
        "Finally, we can iterate over a collection of objects (like a list!) using the `for` operator. The syntax has the keyword `for`, followed by a variable that will store the value of the loop index, followed by all the values we want to iterate over, followed by the colon (:). [And don't forget the indentation block!]\n"
      ]
    },
    {
      "cell_type": "code",
      "metadata": {
        "deletable": true,
        "editable": true,
        "id": "jKKl-rRvZMHc",
        "colab": {
          "base_uri": "https://localhost:8080/"
        },
        "outputId": "c80feabf-a56b-45f3-b86b-66607e12426b"
      },
      "source": [
        "# iterate over all numbers from 0 to 10\n",
        "for x in [0,1,2,3,4,5,6,7,8,9]:\n",
        "    print(x)"
      ],
      "execution_count": 72,
      "outputs": [
        {
          "output_type": "stream",
          "name": "stdout",
          "text": [
            "0\n",
            "1\n",
            "2\n",
            "3\n",
            "4\n",
            "5\n",
            "6\n",
            "7\n",
            "8\n",
            "9\n"
          ]
        }
      ]
    },
    {
      "cell_type": "markdown",
      "source": [
        "we can replace the list [0,1,2,3,4,5,6,7,8,9] with the output of the function range(10). Specifically, the function range(x) will output all the numbers from 0 up to and **excluding** x. So:"
      ],
      "metadata": {
        "id": "YYEFl2rGNRYT"
      }
    },
    {
      "cell_type": "code",
      "metadata": {
        "deletable": true,
        "editable": true,
        "id": "CqtzWL4VZMHg",
        "colab": {
          "base_uri": "https://localhost:8080/"
        },
        "outputId": "0b84e4c6-2574-4c03-f5fa-3c97f241ed6a"
      },
      "source": [
        "for x in range(10):\n",
        "    print(x)\n",
        "    "
      ],
      "execution_count": 73,
      "outputs": [
        {
          "output_type": "stream",
          "name": "stdout",
          "text": [
            "0\n",
            "1\n",
            "2\n",
            "3\n",
            "4\n",
            "5\n",
            "6\n",
            "7\n",
            "8\n",
            "9\n"
          ]
        }
      ]
    },
    {
      "cell_type": "markdown",
      "source": [
        "Finally, we can:\n",
        "1. Have `if` conditions within `for` loops\n",
        "2. Control `for` loops with two keywords:\n",
        "    * `continue`: skip the rest of the block of code that comes after this keyword and move to the next index in the `for` loop\n",
        "    * `break`: skip the rest of the block of code that comes after this keyword and stop the whole `for` loop .\n",
        "\n",
        "For example:"
      ],
      "metadata": {
        "id": "jfZimvqrNrRd"
      }
    },
    {
      "cell_type": "code",
      "metadata": {
        "deletable": true,
        "editable": true,
        "id": "GvnjIGvVZMHn",
        "colab": {
          "base_uri": "https://localhost:8080/"
        },
        "outputId": "69373d84-c2ac-418e-fe73-9ab8317b7f5b"
      },
      "source": [
        "# iterate from 0 to 9, ignore the number 1, print the other numbers and stops when 5 has been printed \n",
        "for x in range(10):\n",
        "    if x is 1:\n",
        "        continue\n",
        "    if (x > 5):\n",
        "        break \n",
        "    print(x)"
      ],
      "execution_count": 74,
      "outputs": [
        {
          "output_type": "stream",
          "name": "stdout",
          "text": [
            "0\n",
            "2\n",
            "3\n",
            "4\n",
            "5\n"
          ]
        }
      ]
    },
    {
      "cell_type": "markdown",
      "source": [
        "For more information about conditionals and loops, have a look [at this link](https://www.tutorialspoint.com/python/python_decision_making.htm) and [this other one](https://www.tutorialspoint.com/python/python_loops.htm)."
      ],
      "metadata": {
        "id": "aHXrHHlAMd3r"
      }
    },
    {
      "cell_type": "markdown",
      "metadata": {
        "id": "tzyt6oW3DHDP"
      },
      "source": [
        "# Some notes about Python arithmetic\n",
        "\n",
        "In Python you can do all the basic operations: \n",
        "+,-,*\n",
        "\n",
        "*   addition with +\n",
        "*   subtraction with -\n",
        "*   multiplication with *\n",
        "*   division with /\n",
        "*   Exponentiation with ** (with the square root being **0.5, try it!)\n",
        "*   List item\n",
        "\n",
        "\n",
        "\n",
        "There are also two special types of divisions:\n",
        "\n",
        "*   Floor division: here only the integer part of the results of the division is returned\n",
        "*   Modulo division: returns the remainder after the division\n",
        "\n",
        "That is:\n"
      ]
    },
    {
      "cell_type": "code",
      "metadata": {
        "id": "m3N-L5gnDHEP",
        "colab": {
          "base_uri": "https://localhost:8080/"
        },
        "outputId": "076c55d7-7044-4408-c12f-c2b018128421"
      },
      "source": [
        "# Floor Division\n",
        "print(7//4) \n",
        "#7 divided by 4 is 1.75, so its integer part is 1\n"
      ],
      "execution_count": 75,
      "outputs": [
        {
          "output_type": "stream",
          "name": "stdout",
          "text": [
            "1\n"
          ]
        }
      ]
    },
    {
      "cell_type": "code",
      "metadata": {
        "id": "L1ng6S9yDHEd",
        "colab": {
          "base_uri": "https://localhost:8080/"
        },
        "outputId": "a223efb2-adaa-4ea2-fb83-ae5fb5f177ec"
      },
      "source": [
        "# Modulo division\n",
        "print(7%4)\n"
      ],
      "execution_count": 76,
      "outputs": [
        {
          "output_type": "stream",
          "name": "stdout",
          "text": [
            "3\n"
          ]
        }
      ]
    },
    {
      "cell_type": "markdown",
      "metadata": {
        "id": "fDGlezZ-D9dx"
      },
      "source": [
        "Note that if you're updating a variable by performing an arithmetic operation on itself, you can use some shortcuts. Python lets you add, subtract, multiply and divide numbers with reassignment using `+=`, `-=`, `*=`, `/=` and `**=`. For example:"
      ]
    },
    {
      "cell_type": "code",
      "metadata": {
        "id": "N4-gIQkfD9d0",
        "colab": {
          "base_uri": "https://localhost:8080/"
        },
        "outputId": "1c0731f2-ba53-44e9-dc16-bbda3be14d18"
      },
      "source": [
        "var_num= 5\n",
        "var_num += 4 #this adds 10 to var_num and assigns the result to var_num\n",
        "print(var_num)"
      ],
      "execution_count": 77,
      "outputs": [
        {
          "output_type": "stream",
          "name": "stdout",
          "text": [
            "9\n"
          ]
        }
      ]
    },
    {
      "cell_type": "code",
      "metadata": {
        "id": "ZZuDltaSD9eL",
        "colab": {
          "base_uri": "https://localhost:8080/"
        },
        "outputId": "7beba19c-2bfb-4dcf-d713-5529a56633b6"
      },
      "source": [
        "var_num **= .5 #this takes the square root of var_num and assigns the result to var_num\n",
        "print(var_num)"
      ],
      "execution_count": 78,
      "outputs": [
        {
          "output_type": "stream",
          "name": "stdout",
          "text": [
            "3.0\n"
          ]
        }
      ]
    }
  ]
}